{
 "cells": [
  {
   "cell_type": "markdown",
   "id": "9fb1c45b",
   "metadata": {},
   "source": [
    "# Data Preprocessing"
   ]
  },
  {
   "cell_type": "code",
   "execution_count": 684,
   "id": "4861d4ae",
   "metadata": {},
   "outputs": [],
   "source": [
    "import pandas as pd\n",
    "import numpy as np\n",
    "import matplotlib.pyplot as plt\n",
    "import seaborn as sns"
   ]
  },
  {
   "cell_type": "code",
   "execution_count": 685,
   "id": "35c4ea34",
   "metadata": {},
   "outputs": [
    {
     "data": {
      "text/html": [
       "<div>\n",
       "<style scoped>\n",
       "    .dataframe tbody tr th:only-of-type {\n",
       "        vertical-align: middle;\n",
       "    }\n",
       "\n",
       "    .dataframe tbody tr th {\n",
       "        vertical-align: top;\n",
       "    }\n",
       "\n",
       "    .dataframe thead th {\n",
       "        text-align: right;\n",
       "    }\n",
       "</style>\n",
       "<table border=\"1\" class=\"dataframe\">\n",
       "  <thead>\n",
       "    <tr style=\"text-align: right;\">\n",
       "      <th></th>\n",
       "      <th>Crop</th>\n",
       "      <th>Season</th>\n",
       "      <th>State</th>\n",
       "      <th>Area</th>\n",
       "      <th>Production</th>\n",
       "      <th>Annual_Rainfall</th>\n",
       "    </tr>\n",
       "  </thead>\n",
       "  <tbody>\n",
       "    <tr>\n",
       "      <th>0</th>\n",
       "      <td>Arecanut</td>\n",
       "      <td>Whole Year</td>\n",
       "      <td>Assam</td>\n",
       "      <td>73814.0</td>\n",
       "      <td>56708</td>\n",
       "      <td>2051.4</td>\n",
       "    </tr>\n",
       "    <tr>\n",
       "      <th>1</th>\n",
       "      <td>Arhar/Tur</td>\n",
       "      <td>Kharif</td>\n",
       "      <td>Assam</td>\n",
       "      <td>6637.0</td>\n",
       "      <td>4685</td>\n",
       "      <td>2051.4</td>\n",
       "    </tr>\n",
       "    <tr>\n",
       "      <th>2</th>\n",
       "      <td>Castor seed</td>\n",
       "      <td>Kharif</td>\n",
       "      <td>Assam</td>\n",
       "      <td>796.0</td>\n",
       "      <td>22</td>\n",
       "      <td>2051.4</td>\n",
       "    </tr>\n",
       "    <tr>\n",
       "      <th>3</th>\n",
       "      <td>Coconut</td>\n",
       "      <td>Whole Year</td>\n",
       "      <td>Assam</td>\n",
       "      <td>19656.0</td>\n",
       "      <td>126905000</td>\n",
       "      <td>2051.4</td>\n",
       "    </tr>\n",
       "    <tr>\n",
       "      <th>4</th>\n",
       "      <td>Cotton(lint)</td>\n",
       "      <td>Kharif</td>\n",
       "      <td>Assam</td>\n",
       "      <td>1739.0</td>\n",
       "      <td>794</td>\n",
       "      <td>2051.4</td>\n",
       "    </tr>\n",
       "    <tr>\n",
       "      <th>...</th>\n",
       "      <td>...</td>\n",
       "      <td>...</td>\n",
       "      <td>...</td>\n",
       "      <td>...</td>\n",
       "      <td>...</td>\n",
       "      <td>...</td>\n",
       "    </tr>\n",
       "    <tr>\n",
       "      <th>19684</th>\n",
       "      <td>Small millets</td>\n",
       "      <td>Kharif</td>\n",
       "      <td>Nagaland</td>\n",
       "      <td>4000.0</td>\n",
       "      <td>2000</td>\n",
       "      <td>1498.0</td>\n",
       "    </tr>\n",
       "    <tr>\n",
       "      <th>19685</th>\n",
       "      <td>Wheat</td>\n",
       "      <td>Rabi</td>\n",
       "      <td>Nagaland</td>\n",
       "      <td>1000.0</td>\n",
       "      <td>3000</td>\n",
       "      <td>1498.0</td>\n",
       "    </tr>\n",
       "    <tr>\n",
       "      <th>19686</th>\n",
       "      <td>Maize</td>\n",
       "      <td>Kharif</td>\n",
       "      <td>Jammu and Kashmir</td>\n",
       "      <td>310883.0</td>\n",
       "      <td>440900</td>\n",
       "      <td>1356.2</td>\n",
       "    </tr>\n",
       "    <tr>\n",
       "      <th>19687</th>\n",
       "      <td>Rice</td>\n",
       "      <td>Kharif</td>\n",
       "      <td>Jammu and Kashmir</td>\n",
       "      <td>275746.0</td>\n",
       "      <td>5488</td>\n",
       "      <td>1356.2</td>\n",
       "    </tr>\n",
       "    <tr>\n",
       "      <th>19688</th>\n",
       "      <td>Wheat</td>\n",
       "      <td>Rabi</td>\n",
       "      <td>Jammu and Kashmir</td>\n",
       "      <td>239344.0</td>\n",
       "      <td>392160</td>\n",
       "      <td>1356.2</td>\n",
       "    </tr>\n",
       "  </tbody>\n",
       "</table>\n",
       "<p>19689 rows × 6 columns</p>\n",
       "</div>"
      ],
      "text/plain": [
       "                Crop       Season              State      Area  Production  \\\n",
       "0           Arecanut  Whole Year               Assam   73814.0       56708   \n",
       "1          Arhar/Tur  Kharif                   Assam    6637.0        4685   \n",
       "2        Castor seed  Kharif                   Assam     796.0          22   \n",
       "3           Coconut   Whole Year               Assam   19656.0   126905000   \n",
       "4       Cotton(lint)  Kharif                   Assam    1739.0         794   \n",
       "...              ...          ...                ...       ...         ...   \n",
       "19684  Small millets  Kharif                Nagaland    4000.0        2000   \n",
       "19685          Wheat  Rabi                  Nagaland    1000.0        3000   \n",
       "19686          Maize  Kharif       Jammu and Kashmir  310883.0      440900   \n",
       "19687           Rice  Kharif       Jammu and Kashmir  275746.0        5488   \n",
       "19688          Wheat  Rabi         Jammu and Kashmir  239344.0      392160   \n",
       "\n",
       "       Annual_Rainfall  \n",
       "0               2051.4  \n",
       "1               2051.4  \n",
       "2               2051.4  \n",
       "3               2051.4  \n",
       "4               2051.4  \n",
       "...                ...  \n",
       "19684           1498.0  \n",
       "19685           1498.0  \n",
       "19686           1356.2  \n",
       "19687           1356.2  \n",
       "19688           1356.2  \n",
       "\n",
       "[19689 rows x 6 columns]"
      ]
     },
     "execution_count": 685,
     "metadata": {},
     "output_type": "execute_result"
    }
   ],
   "source": [
    "df = pd.read_csv('data/required_feature.csv')\n",
    "df"
   ]
  },
  {
   "cell_type": "code",
   "execution_count": 686,
   "id": "9140a344",
   "metadata": {},
   "outputs": [
    {
     "name": "stdout",
     "output_type": "stream",
     "text": [
      "['Area', 'Annual_Rainfall'] ['Crop', 'Season', 'State']\n"
     ]
    }
   ],
   "source": [
    "numeric_df = df.select_dtypes(include=['number'])\n",
    "numeric_df.drop(columns=['Production'], inplace=True)\n",
    "numeric_col = list(numeric_df.columns)\n",
    "\n",
    "categorical_df = df.select_dtypes(exclude=['number'])\n",
    "categorical_col = list(categorical_df.columns)\n",
    "\n",
    "print(numeric_col, categorical_col)"
   ]
  },
  {
   "cell_type": "code",
   "execution_count": 687,
   "id": "d6bfafda",
   "metadata": {},
   "outputs": [
    {
     "name": "stdout",
     "output_type": "stream",
     "text": [
      "['Crop', 'Season', 'State'] \n",
      "\n",
      "Crop\n",
      "['Arecanut' 'Arhar/Tur' 'Castor seed' 'Coconut ' 'Cotton(lint)'\n",
      " 'Dry chillies' 'Gram' 'Jute' 'Linseed' 'Maize' 'Mesta' 'Niger seed'\n",
      " 'Onion' 'Other  Rabi pulses' 'Potato' 'Rapeseed &Mustard' 'Rice'\n",
      " 'Sesamum' 'Small millets' 'Sugarcane' 'Sweet potato' 'Tapioca' 'Tobacco'\n",
      " 'Turmeric' 'Wheat' 'Bajra' 'Black pepper' 'Cardamom' 'Coriander' 'Garlic'\n",
      " 'Ginger' 'Groundnut' 'Horse-gram' 'Jowar' 'Ragi' 'Cashewnut' 'Banana'\n",
      " 'Soyabean' 'Barley' 'Khesari' 'Masoor' 'Moong(Green Gram)'\n",
      " 'Other Kharif pulses' 'Safflower' 'Sannhamp' 'Sunflower' 'Urad'\n",
      " 'Peas & beans (Pulses)' 'other oilseeds' 'Other Cereals' 'Cowpea(Lobia)'\n",
      " 'Oilseeds total' 'Guar seed' 'Other Summer Pulses' 'Moth']\n",
      "**************************************************\n",
      "Season\n",
      "['Whole Year ' 'Kharif     ' 'Rabi       ' 'Autumn     ' 'Summer     '\n",
      " 'Winter     ']\n",
      "**************************************************\n",
      "State\n",
      "['Assam' 'Karnataka' 'Kerala' 'Meghalaya' 'West Bengal' 'Puducherry' 'Goa'\n",
      " 'Andhra Pradesh' 'Tamil Nadu' 'Odisha' 'Bihar' 'Gujarat' 'Madhya Pradesh'\n",
      " 'Maharashtra' 'Mizoram' 'Punjab' 'Uttar Pradesh' 'Haryana'\n",
      " 'Himachal Pradesh' 'Tripura' 'Nagaland' 'Chhattisgarh' 'Uttarakhand'\n",
      " 'Jharkhand' 'Delhi' 'Manipur' 'Jammu and Kashmir' 'Telangana'\n",
      " 'Arunachal Pradesh' 'Sikkim']\n",
      "**************************************************\n"
     ]
    }
   ],
   "source": [
    "columns = categorical_col\n",
    "print(columns, '\\n')\n",
    "\n",
    "for i in columns:\n",
    "    print(i)\n",
    "    print(df[i].unique())\n",
    "    print(\"*\" * 50)"
   ]
  },
  {
   "cell_type": "markdown",
   "id": "f2ff583e",
   "metadata": {},
   "source": [
    "---"
   ]
  },
  {
   "cell_type": "markdown",
   "id": "ba854987",
   "metadata": {},
   "source": [
    "## Remove leading or trailing spaces from categorical column values"
   ]
  },
  {
   "cell_type": "code",
   "execution_count": 688,
   "id": "2e96a17c",
   "metadata": {},
   "outputs": [],
   "source": [
    "df['Crop'] = df['Crop'].str.strip()\n",
    "df['Season'] = df['Season'].str.strip()\n",
    "df['State'] = df['State'].str.strip()\n"
   ]
  },
  {
   "cell_type": "markdown",
   "id": "cc51941d",
   "metadata": {},
   "source": [
    "## Remove those rows which have unnecessary crop values"
   ]
  },
  {
   "cell_type": "code",
   "execution_count": 689,
   "id": "fadf17ae",
   "metadata": {},
   "outputs": [],
   "source": [
    "temp_crop_values = [\"Oilseeds total\", \"other oilseeds\", \"Other Cereals\", \"Other Rabi pulses\", \"Other Kharif pulses\", \"Other Summer Pulses\"]\n",
    "\n",
    "df = df[~df[\"Crop\"].isin(temp_crop_values)]"
   ]
  },
  {
   "cell_type": "code",
   "execution_count": 690,
   "id": "ac34d6b2",
   "metadata": {},
   "outputs": [
    {
     "name": "stdout",
     "output_type": "stream",
     "text": [
      "['Crop', 'Season', 'State'] \n",
      "\n",
      "Crop\n",
      "['Arecanut' 'Arhar/Tur' 'Castor seed' 'Coconut' 'Cotton(lint)'\n",
      " 'Dry chillies' 'Gram' 'Jute' 'Linseed' 'Maize' 'Mesta' 'Niger seed'\n",
      " 'Onion' 'Other  Rabi pulses' 'Potato' 'Rapeseed &Mustard' 'Rice'\n",
      " 'Sesamum' 'Small millets' 'Sugarcane' 'Sweet potato' 'Tapioca' 'Tobacco'\n",
      " 'Turmeric' 'Wheat' 'Bajra' 'Black pepper' 'Cardamom' 'Coriander' 'Garlic'\n",
      " 'Ginger' 'Groundnut' 'Horse-gram' 'Jowar' 'Ragi' 'Cashewnut' 'Banana'\n",
      " 'Soyabean' 'Barley' 'Khesari' 'Masoor' 'Moong(Green Gram)' 'Safflower'\n",
      " 'Sannhamp' 'Sunflower' 'Urad' 'Peas & beans (Pulses)' 'Cowpea(Lobia)'\n",
      " 'Guar seed' 'Moth']\n",
      "**************************************************\n",
      "Season\n",
      "['Whole Year' 'Kharif' 'Rabi' 'Autumn' 'Summer' 'Winter']\n",
      "**************************************************\n",
      "State\n",
      "['Assam' 'Karnataka' 'Kerala' 'Meghalaya' 'West Bengal' 'Puducherry' 'Goa'\n",
      " 'Andhra Pradesh' 'Tamil Nadu' 'Odisha' 'Bihar' 'Gujarat' 'Madhya Pradesh'\n",
      " 'Maharashtra' 'Mizoram' 'Punjab' 'Uttar Pradesh' 'Haryana'\n",
      " 'Himachal Pradesh' 'Tripura' 'Nagaland' 'Chhattisgarh' 'Uttarakhand'\n",
      " 'Jharkhand' 'Delhi' 'Manipur' 'Jammu and Kashmir' 'Telangana'\n",
      " 'Arunachal Pradesh' 'Sikkim']\n",
      "**************************************************\n"
     ]
    }
   ],
   "source": [
    "columns = categorical_col\n",
    "print(columns, '\\n')\n",
    "\n",
    "for i in columns:\n",
    "    print(i)\n",
    "    print(df[i].unique())\n",
    "    print(\"*\" * 50)"
   ]
  },
  {
   "cell_type": "markdown",
   "id": "a62ea1f0",
   "metadata": {},
   "source": [
    "# Understanding each feaure individually"
   ]
  },
  {
   "cell_type": "markdown",
   "id": "3b14888f",
   "metadata": {},
   "source": [
    "## Crop"
   ]
  },
  {
   "cell_type": "code",
   "execution_count": 691,
   "id": "00c3d0a1",
   "metadata": {},
   "outputs": [
    {
     "data": {
      "image/png": "[encoded data removed]",
      "text/plain": [
       "<Figure size 1200x800 with 1 Axes>"
      ]
     },
     "metadata": {},
     "output_type": "display_data"
    }
   ],
   "source": [
    "plt.figure(figsize=(12, 8))\n",
    "sns.countplot(y='Crop', data=df, order=df['Crop'].value_counts().index)\n",
    "plt.title(\"Distribution of Crops\")\n",
    "plt.show()"
   ]
  },
  {
   "cell_type": "markdown",
   "id": "3566e05c",
   "metadata": {},
   "source": [
    "## Season"
   ]
  },
  {
   "cell_type": "code",
   "execution_count": 692,
   "id": "238aaf9f",
   "metadata": {},
   "outputs": [
    {
     "data": {
      "image/png": "[encoded data removed]",
      "text/plain": [
       "<Figure size 1200x800 with 1 Axes>"
      ]
     },
     "metadata": {},
     "output_type": "display_data"
    }
   ],
   "source": [
    "plt.figure(figsize=(12, 8))\n",
    "sns.countplot(y='Season', data=df, order=df['Season'].value_counts().index)\n",
    "plt.title(\"Distribution of Season\")\n",
    "plt.show()"
   ]
  },
  {
   "cell_type": "markdown",
   "id": "b7987196",
   "metadata": {},
   "source": [
    "## State"
   ]
  },
  {
   "cell_type": "code",
   "execution_count": 693,
   "id": "82842a38",
   "metadata": {},
   "outputs": [
    {
     "data": {
      "image/png": "[encoded data removed]",
      "text/plain": [
       "<Figure size 1200x800 with 1 Axes>"
      ]
     },
     "metadata": {},
     "output_type": "display_data"
    }
   ],
   "source": [
    "plt.figure(figsize=(12, 8))\n",
    "sns.countplot(y='State', data=df, order=df['State'].value_counts().index)\n",
    "plt.title(\"Distribution of State\")\n",
    "plt.show()"
   ]
  },
  {
   "cell_type": "markdown",
   "id": "25619ad8",
   "metadata": {},
   "source": [
    "## Area"
   ]
  },
  {
   "cell_type": "code",
   "execution_count": 694,
   "id": "6b0365d6",
   "metadata": {},
   "outputs": [
    {
     "data": {
      "text/plain": [
       "count    1.899600e+04\n",
       "mean     1.852562e+05\n",
       "std      7.449837e+05\n",
       "min      5.000000e-01\n",
       "25%      1.448000e+03\n",
       "50%      9.810500e+03\n",
       "75%      7.967575e+04\n",
       "max      5.080810e+07\n",
       "Name: Area, dtype: float64"
      ]
     },
     "execution_count": 694,
     "metadata": {},
     "output_type": "execute_result"
    }
   ],
   "source": [
    "df['Area'].describe()"
   ]
  },
  {
   "cell_type": "code",
   "execution_count": 695,
   "id": "bda9eae8",
   "metadata": {},
   "outputs": [
    {
     "data": {
      "image/png": "[encoded data removed]",
      "text/plain": [
       "<Figure size 640x480 with 1 Axes>"
      ]
     },
     "metadata": {},
     "output_type": "display_data"
    }
   ],
   "source": [
    "sns.histplot(df['Area'], bins=50, kde=True)\n",
    "plt.title('Distribution of Area')\n",
    "plt.show()"
   ]
  },
  {
   "cell_type": "markdown",
   "id": "8ff0f1da",
   "metadata": {},
   "source": [
    "## Production"
   ]
  },
  {
   "cell_type": "code",
   "execution_count": 696,
   "id": "d50fc752",
   "metadata": {},
   "outputs": [
    {
     "data": {
      "text/plain": [
       "count    1.899600e+04\n",
       "mean     1.703373e+07\n",
       "std      2.677935e+08\n",
       "min      0.000000e+00\n",
       "25%      1.492500e+03\n",
       "50%      1.510700e+04\n",
       "75%      1.304250e+05\n",
       "max      6.326000e+09\n",
       "Name: Production, dtype: float64"
      ]
     },
     "execution_count": 696,
     "metadata": {},
     "output_type": "execute_result"
    }
   ],
   "source": [
    "df['Production'].describe()"
   ]
  },
  {
   "cell_type": "code",
   "execution_count": 697,
   "id": "e3888d2b",
   "metadata": {},
   "outputs": [
    {
     "data": {
      "image/png": "[encoded data removed]",
      "text/plain": [
       "<Figure size 640x480 with 1 Axes>"
      ]
     },
     "metadata": {},
     "output_type": "display_data"
    }
   ],
   "source": [
    "sns.histplot(df['Production'], bins=50, kde=True)\n",
    "plt.title('Distribution of Production')\n",
    "plt.show()"
   ]
  },
  {
   "cell_type": "markdown",
   "id": "5babbe1c",
   "metadata": {},
   "source": [
    "## Rainfall"
   ]
  },
  {
   "cell_type": "code",
   "execution_count": 698,
   "id": "6527126a",
   "metadata": {},
   "outputs": [
    {
     "data": {
      "text/plain": [
       "count    18996.000000\n",
       "mean      1435.405847\n",
       "std        820.001293\n",
       "min        301.300000\n",
       "25%        935.600000\n",
       "50%       1246.200000\n",
       "75%       1635.900000\n",
       "max       6552.700000\n",
       "Name: Annual_Rainfall, dtype: float64"
      ]
     },
     "execution_count": 698,
     "metadata": {},
     "output_type": "execute_result"
    },
    {
     "data": {
      "image/png": "[encoded data removed]",
      "text/plain": [
       "<Figure size 640x480 with 1 Axes>"
      ]
     },
     "metadata": {},
     "output_type": "display_data"
    }
   ],
   "source": [
    "sns.histplot(df['Annual_Rainfall'])\n",
    "df['Annual_Rainfall'].describe()"
   ]
  },
  {
   "cell_type": "code",
   "execution_count": 699,
   "id": "aea1695f",
   "metadata": {},
   "outputs": [
    {
     "name": "stderr",
     "output_type": "stream",
     "text": [
      "C:\\Users\\kings\\AppData\\Local\\Temp\\ipykernel_8148\\3426407180.py:4: SettingWithCopyWarning: \n",
      "A value is trying to be set on a copy of a slice from a DataFrame.\n",
      "Try using .loc[row_indexer,col_indexer] = value instead\n",
      "\n",
      "See the caveats in the documentation: https://pandas.pydata.org/pandas-docs/stable/user_guide/indexing.html#returning-a-view-versus-a-copy\n",
      "  df['Annual_Rainfall'] = np.where(\n"
     ]
    }
   ],
   "source": [
    "q1 = df['Annual_Rainfall'].quantile(0.25)\n",
    "q3 = df['Annual_Rainfall'].quantile(0.75)\n",
    "\n",
    "df['Annual_Rainfall'] = np.where(\n",
    "    df['Annual_Rainfall'] < q1, 'Low',\n",
    "    np.where(\n",
    "        (df['Annual_Rainfall'] >= q1) & (df['Annual_Rainfall'] <= q3), 'Mid',\n",
    "        'High'\n",
    "    )\n",
    ")"
   ]
  },
  {
   "cell_type": "code",
   "execution_count": 700,
   "id": "5224343f",
   "metadata": {},
   "outputs": [
    {
     "data": {
      "text/html": [
       "<div>\n",
       "<style scoped>\n",
       "    .dataframe tbody tr th:only-of-type {\n",
       "        vertical-align: middle;\n",
       "    }\n",
       "\n",
       "    .dataframe tbody tr th {\n",
       "        vertical-align: top;\n",
       "    }\n",
       "\n",
       "    .dataframe thead th {\n",
       "        text-align: right;\n",
       "    }\n",
       "</style>\n",
       "<table border=\"1\" class=\"dataframe\">\n",
       "  <thead>\n",
       "    <tr style=\"text-align: right;\">\n",
       "      <th></th>\n",
       "      <th>Crop</th>\n",
       "      <th>Season</th>\n",
       "      <th>State</th>\n",
       "      <th>Area</th>\n",
       "      <th>Production</th>\n",
       "      <th>Annual_Rainfall</th>\n",
       "    </tr>\n",
       "  </thead>\n",
       "  <tbody>\n",
       "    <tr>\n",
       "      <th>0</th>\n",
       "      <td>Arecanut</td>\n",
       "      <td>Whole Year</td>\n",
       "      <td>Assam</td>\n",
       "      <td>73814.0</td>\n",
       "      <td>56708</td>\n",
       "      <td>High</td>\n",
       "    </tr>\n",
       "    <tr>\n",
       "      <th>1</th>\n",
       "      <td>Arhar/Tur</td>\n",
       "      <td>Kharif</td>\n",
       "      <td>Assam</td>\n",
       "      <td>6637.0</td>\n",
       "      <td>4685</td>\n",
       "      <td>High</td>\n",
       "    </tr>\n",
       "    <tr>\n",
       "      <th>2</th>\n",
       "      <td>Castor seed</td>\n",
       "      <td>Kharif</td>\n",
       "      <td>Assam</td>\n",
       "      <td>796.0</td>\n",
       "      <td>22</td>\n",
       "      <td>High</td>\n",
       "    </tr>\n",
       "    <tr>\n",
       "      <th>3</th>\n",
       "      <td>Coconut</td>\n",
       "      <td>Whole Year</td>\n",
       "      <td>Assam</td>\n",
       "      <td>19656.0</td>\n",
       "      <td>126905000</td>\n",
       "      <td>High</td>\n",
       "    </tr>\n",
       "    <tr>\n",
       "      <th>4</th>\n",
       "      <td>Cotton(lint)</td>\n",
       "      <td>Kharif</td>\n",
       "      <td>Assam</td>\n",
       "      <td>1739.0</td>\n",
       "      <td>794</td>\n",
       "      <td>High</td>\n",
       "    </tr>\n",
       "    <tr>\n",
       "      <th>...</th>\n",
       "      <td>...</td>\n",
       "      <td>...</td>\n",
       "      <td>...</td>\n",
       "      <td>...</td>\n",
       "      <td>...</td>\n",
       "      <td>...</td>\n",
       "    </tr>\n",
       "    <tr>\n",
       "      <th>19684</th>\n",
       "      <td>Small millets</td>\n",
       "      <td>Kharif</td>\n",
       "      <td>Nagaland</td>\n",
       "      <td>4000.0</td>\n",
       "      <td>2000</td>\n",
       "      <td>Mid</td>\n",
       "    </tr>\n",
       "    <tr>\n",
       "      <th>19685</th>\n",
       "      <td>Wheat</td>\n",
       "      <td>Rabi</td>\n",
       "      <td>Nagaland</td>\n",
       "      <td>1000.0</td>\n",
       "      <td>3000</td>\n",
       "      <td>Mid</td>\n",
       "    </tr>\n",
       "    <tr>\n",
       "      <th>19686</th>\n",
       "      <td>Maize</td>\n",
       "      <td>Kharif</td>\n",
       "      <td>Jammu and Kashmir</td>\n",
       "      <td>310883.0</td>\n",
       "      <td>440900</td>\n",
       "      <td>Mid</td>\n",
       "    </tr>\n",
       "    <tr>\n",
       "      <th>19687</th>\n",
       "      <td>Rice</td>\n",
       "      <td>Kharif</td>\n",
       "      <td>Jammu and Kashmir</td>\n",
       "      <td>275746.0</td>\n",
       "      <td>5488</td>\n",
       "      <td>Mid</td>\n",
       "    </tr>\n",
       "    <tr>\n",
       "      <th>19688</th>\n",
       "      <td>Wheat</td>\n",
       "      <td>Rabi</td>\n",
       "      <td>Jammu and Kashmir</td>\n",
       "      <td>239344.0</td>\n",
       "      <td>392160</td>\n",
       "      <td>Mid</td>\n",
       "    </tr>\n",
       "  </tbody>\n",
       "</table>\n",
       "<p>18996 rows × 6 columns</p>\n",
       "</div>"
      ],
      "text/plain": [
       "                Crop      Season              State      Area  Production  \\\n",
       "0           Arecanut  Whole Year              Assam   73814.0       56708   \n",
       "1          Arhar/Tur      Kharif              Assam    6637.0        4685   \n",
       "2        Castor seed      Kharif              Assam     796.0          22   \n",
       "3            Coconut  Whole Year              Assam   19656.0   126905000   \n",
       "4       Cotton(lint)      Kharif              Assam    1739.0         794   \n",
       "...              ...         ...                ...       ...         ...   \n",
       "19684  Small millets      Kharif           Nagaland    4000.0        2000   \n",
       "19685          Wheat        Rabi           Nagaland    1000.0        3000   \n",
       "19686          Maize      Kharif  Jammu and Kashmir  310883.0      440900   \n",
       "19687           Rice      Kharif  Jammu and Kashmir  275746.0        5488   \n",
       "19688          Wheat        Rabi  Jammu and Kashmir  239344.0      392160   \n",
       "\n",
       "      Annual_Rainfall  \n",
       "0                High  \n",
       "1                High  \n",
       "2                High  \n",
       "3                High  \n",
       "4                High  \n",
       "...               ...  \n",
       "19684             Mid  \n",
       "19685             Mid  \n",
       "19686             Mid  \n",
       "19687             Mid  \n",
       "19688             Mid  \n",
       "\n",
       "[18996 rows x 6 columns]"
      ]
     },
     "execution_count": 700,
     "metadata": {},
     "output_type": "execute_result"
    }
   ],
   "source": [
    "df"
   ]
  },
  {
   "cell_type": "markdown",
   "id": "c4437805",
   "metadata": {},
   "source": [
    "---"
   ]
  },
  {
   "cell_type": "code",
   "execution_count": 701,
   "id": "ff234d5f",
   "metadata": {},
   "outputs": [],
   "source": [
    "categorical_col.append('Annual_Rainfall')"
   ]
  },
  {
   "cell_type": "code",
   "execution_count": 702,
   "id": "c0da47ca",
   "metadata": {},
   "outputs": [
    {
     "name": "stdout",
     "output_type": "stream",
     "text": [
      "['Crop', 'Season', 'State', 'Annual_Rainfall'] \n",
      "\n",
      "Crop\n",
      "['Arecanut' 'Arhar/Tur' 'Castor seed' 'Coconut' 'Cotton(lint)'\n",
      " 'Dry chillies' 'Gram' 'Jute' 'Linseed' 'Maize' 'Mesta' 'Niger seed'\n",
      " 'Onion' 'Other  Rabi pulses' 'Potato' 'Rapeseed &Mustard' 'Rice'\n",
      " 'Sesamum' 'Small millets' 'Sugarcane' 'Sweet potato' 'Tapioca' 'Tobacco'\n",
      " 'Turmeric' 'Wheat' 'Bajra' 'Black pepper' 'Cardamom' 'Coriander' 'Garlic'\n",
      " 'Ginger' 'Groundnut' 'Horse-gram' 'Jowar' 'Ragi' 'Cashewnut' 'Banana'\n",
      " 'Soyabean' 'Barley' 'Khesari' 'Masoor' 'Moong(Green Gram)' 'Safflower'\n",
      " 'Sannhamp' 'Sunflower' 'Urad' 'Peas & beans (Pulses)' 'Cowpea(Lobia)'\n",
      " 'Guar seed' 'Moth']\n",
      "**************************************************\n",
      "Season\n",
      "['Whole Year' 'Kharif' 'Rabi' 'Autumn' 'Summer' 'Winter']\n",
      "**************************************************\n",
      "State\n",
      "['Assam' 'Karnataka' 'Kerala' 'Meghalaya' 'West Bengal' 'Puducherry' 'Goa'\n",
      " 'Andhra Pradesh' 'Tamil Nadu' 'Odisha' 'Bihar' 'Gujarat' 'Madhya Pradesh'\n",
      " 'Maharashtra' 'Mizoram' 'Punjab' 'Uttar Pradesh' 'Haryana'\n",
      " 'Himachal Pradesh' 'Tripura' 'Nagaland' 'Chhattisgarh' 'Uttarakhand'\n",
      " 'Jharkhand' 'Delhi' 'Manipur' 'Jammu and Kashmir' 'Telangana'\n",
      " 'Arunachal Pradesh' 'Sikkim']\n",
      "**************************************************\n",
      "Annual_Rainfall\n",
      "['High' 'Mid' 'Low']\n",
      "**************************************************\n"
     ]
    }
   ],
   "source": [
    "columns = categorical_col\n",
    "print(columns, '\\n')\n",
    "\n",
    "for i in columns:\n",
    "    print(i)\n",
    "    print(df[i].unique())\n",
    "    print(\"*\" * 50)"
   ]
  },
  {
   "cell_type": "code",
   "execution_count": 703,
   "id": "9a1bcc9f",
   "metadata": {},
   "outputs": [
    {
     "data": {
      "text/html": [
       "<div>\n",
       "<style scoped>\n",
       "    .dataframe tbody tr th:only-of-type {\n",
       "        vertical-align: middle;\n",
       "    }\n",
       "\n",
       "    .dataframe tbody tr th {\n",
       "        vertical-align: top;\n",
       "    }\n",
       "\n",
       "    .dataframe thead th {\n",
       "        text-align: right;\n",
       "    }\n",
       "</style>\n",
       "<table border=\"1\" class=\"dataframe\">\n",
       "  <thead>\n",
       "    <tr style=\"text-align: right;\">\n",
       "      <th></th>\n",
       "      <th>Crop</th>\n",
       "      <th>Season</th>\n",
       "      <th>State</th>\n",
       "      <th>Area</th>\n",
       "      <th>Production</th>\n",
       "      <th>Annual_Rainfall</th>\n",
       "    </tr>\n",
       "  </thead>\n",
       "  <tbody>\n",
       "    <tr>\n",
       "      <th>0</th>\n",
       "      <td>Arecanut</td>\n",
       "      <td>Whole Year</td>\n",
       "      <td>Assam</td>\n",
       "      <td>73814.0</td>\n",
       "      <td>56708</td>\n",
       "      <td>High</td>\n",
       "    </tr>\n",
       "    <tr>\n",
       "      <th>1</th>\n",
       "      <td>Arhar/Tur</td>\n",
       "      <td>Kharif</td>\n",
       "      <td>Assam</td>\n",
       "      <td>6637.0</td>\n",
       "      <td>4685</td>\n",
       "      <td>High</td>\n",
       "    </tr>\n",
       "    <tr>\n",
       "      <th>2</th>\n",
       "      <td>Castor seed</td>\n",
       "      <td>Kharif</td>\n",
       "      <td>Assam</td>\n",
       "      <td>796.0</td>\n",
       "      <td>22</td>\n",
       "      <td>High</td>\n",
       "    </tr>\n",
       "    <tr>\n",
       "      <th>3</th>\n",
       "      <td>Coconut</td>\n",
       "      <td>Whole Year</td>\n",
       "      <td>Assam</td>\n",
       "      <td>19656.0</td>\n",
       "      <td>126905000</td>\n",
       "      <td>High</td>\n",
       "    </tr>\n",
       "    <tr>\n",
       "      <th>4</th>\n",
       "      <td>Cotton(lint)</td>\n",
       "      <td>Kharif</td>\n",
       "      <td>Assam</td>\n",
       "      <td>1739.0</td>\n",
       "      <td>794</td>\n",
       "      <td>High</td>\n",
       "    </tr>\n",
       "    <tr>\n",
       "      <th>...</th>\n",
       "      <td>...</td>\n",
       "      <td>...</td>\n",
       "      <td>...</td>\n",
       "      <td>...</td>\n",
       "      <td>...</td>\n",
       "      <td>...</td>\n",
       "    </tr>\n",
       "    <tr>\n",
       "      <th>19684</th>\n",
       "      <td>Small millets</td>\n",
       "      <td>Kharif</td>\n",
       "      <td>Nagaland</td>\n",
       "      <td>4000.0</td>\n",
       "      <td>2000</td>\n",
       "      <td>Mid</td>\n",
       "    </tr>\n",
       "    <tr>\n",
       "      <th>19685</th>\n",
       "      <td>Wheat</td>\n",
       "      <td>Rabi</td>\n",
       "      <td>Nagaland</td>\n",
       "      <td>1000.0</td>\n",
       "      <td>3000</td>\n",
       "      <td>Mid</td>\n",
       "    </tr>\n",
       "    <tr>\n",
       "      <th>19686</th>\n",
       "      <td>Maize</td>\n",
       "      <td>Kharif</td>\n",
       "      <td>Jammu and Kashmir</td>\n",
       "      <td>310883.0</td>\n",
       "      <td>440900</td>\n",
       "      <td>Mid</td>\n",
       "    </tr>\n",
       "    <tr>\n",
       "      <th>19687</th>\n",
       "      <td>Rice</td>\n",
       "      <td>Kharif</td>\n",
       "      <td>Jammu and Kashmir</td>\n",
       "      <td>275746.0</td>\n",
       "      <td>5488</td>\n",
       "      <td>Mid</td>\n",
       "    </tr>\n",
       "    <tr>\n",
       "      <th>19688</th>\n",
       "      <td>Wheat</td>\n",
       "      <td>Rabi</td>\n",
       "      <td>Jammu and Kashmir</td>\n",
       "      <td>239344.0</td>\n",
       "      <td>392160</td>\n",
       "      <td>Mid</td>\n",
       "    </tr>\n",
       "  </tbody>\n",
       "</table>\n",
       "<p>18996 rows × 6 columns</p>\n",
       "</div>"
      ],
      "text/plain": [
       "                Crop      Season              State      Area  Production  \\\n",
       "0           Arecanut  Whole Year              Assam   73814.0       56708   \n",
       "1          Arhar/Tur      Kharif              Assam    6637.0        4685   \n",
       "2        Castor seed      Kharif              Assam     796.0          22   \n",
       "3            Coconut  Whole Year              Assam   19656.0   126905000   \n",
       "4       Cotton(lint)      Kharif              Assam    1739.0         794   \n",
       "...              ...         ...                ...       ...         ...   \n",
       "19684  Small millets      Kharif           Nagaland    4000.0        2000   \n",
       "19685          Wheat        Rabi           Nagaland    1000.0        3000   \n",
       "19686          Maize      Kharif  Jammu and Kashmir  310883.0      440900   \n",
       "19687           Rice      Kharif  Jammu and Kashmir  275746.0        5488   \n",
       "19688          Wheat        Rabi  Jammu and Kashmir  239344.0      392160   \n",
       "\n",
       "      Annual_Rainfall  \n",
       "0                High  \n",
       "1                High  \n",
       "2                High  \n",
       "3                High  \n",
       "4                High  \n",
       "...               ...  \n",
       "19684             Mid  \n",
       "19685             Mid  \n",
       "19686             Mid  \n",
       "19687             Mid  \n",
       "19688             Mid  \n",
       "\n",
       "[18996 rows x 6 columns]"
      ]
     },
     "execution_count": 703,
     "metadata": {},
     "output_type": "execute_result"
    }
   ],
   "source": [
    "df"
   ]
  },
  {
   "cell_type": "markdown",
   "id": "617e3423",
   "metadata": {},
   "source": [
    "# Handle extreme outliers"
   ]
  },
  {
   "cell_type": "markdown",
   "id": "3e8e4ee8",
   "metadata": {},
   "source": [
    "## Area"
   ]
  },
  {
   "cell_type": "code",
   "execution_count": 704,
   "id": "1bd1f2c5",
   "metadata": {},
   "outputs": [
    {
     "name": "stdout",
     "output_type": "stream",
     "text": [
      "4.0 2660732.5000000023\n"
     ]
    }
   ],
   "source": [
    "upper_limit = df['Area'].quantile(0.985)\n",
    "lower_limit = df['Area'].quantile(0.015)\n",
    "\n",
    "print(lower_limit, upper_limit)"
   ]
  },
  {
   "cell_type": "code",
   "execution_count": 705,
   "id": "b8e946e4",
   "metadata": {},
   "outputs": [
    {
     "data": {
      "text/plain": [
       "(18996, 6)"
      ]
     },
     "execution_count": 705,
     "metadata": {},
     "output_type": "execute_result"
    }
   ],
   "source": [
    "df.shape"
   ]
  },
  {
   "cell_type": "code",
   "execution_count": 706,
   "id": "50ca4d88",
   "metadata": {},
   "outputs": [
    {
     "data": {
      "text/html": [
       "<div>\n",
       "<style scoped>\n",
       "    .dataframe tbody tr th:only-of-type {\n",
       "        vertical-align: middle;\n",
       "    }\n",
       "\n",
       "    .dataframe tbody tr th {\n",
       "        vertical-align: top;\n",
       "    }\n",
       "\n",
       "    .dataframe thead th {\n",
       "        text-align: right;\n",
       "    }\n",
       "</style>\n",
       "<table border=\"1\" class=\"dataframe\">\n",
       "  <thead>\n",
       "    <tr style=\"text-align: right;\">\n",
       "      <th></th>\n",
       "      <th>Crop</th>\n",
       "      <th>Season</th>\n",
       "      <th>State</th>\n",
       "      <th>Area</th>\n",
       "      <th>Production</th>\n",
       "      <th>Annual_Rainfall</th>\n",
       "    </tr>\n",
       "  </thead>\n",
       "  <tbody>\n",
       "    <tr>\n",
       "      <th>0</th>\n",
       "      <td>Arecanut</td>\n",
       "      <td>Whole Year</td>\n",
       "      <td>Assam</td>\n",
       "      <td>73814.0</td>\n",
       "      <td>56708</td>\n",
       "      <td>High</td>\n",
       "    </tr>\n",
       "    <tr>\n",
       "      <th>1</th>\n",
       "      <td>Arhar/Tur</td>\n",
       "      <td>Kharif</td>\n",
       "      <td>Assam</td>\n",
       "      <td>6637.0</td>\n",
       "      <td>4685</td>\n",
       "      <td>High</td>\n",
       "    </tr>\n",
       "    <tr>\n",
       "      <th>2</th>\n",
       "      <td>Castor seed</td>\n",
       "      <td>Kharif</td>\n",
       "      <td>Assam</td>\n",
       "      <td>796.0</td>\n",
       "      <td>22</td>\n",
       "      <td>High</td>\n",
       "    </tr>\n",
       "    <tr>\n",
       "      <th>3</th>\n",
       "      <td>Coconut</td>\n",
       "      <td>Whole Year</td>\n",
       "      <td>Assam</td>\n",
       "      <td>19656.0</td>\n",
       "      <td>126905000</td>\n",
       "      <td>High</td>\n",
       "    </tr>\n",
       "    <tr>\n",
       "      <th>4</th>\n",
       "      <td>Cotton(lint)</td>\n",
       "      <td>Kharif</td>\n",
       "      <td>Assam</td>\n",
       "      <td>1739.0</td>\n",
       "      <td>794</td>\n",
       "      <td>High</td>\n",
       "    </tr>\n",
       "    <tr>\n",
       "      <th>...</th>\n",
       "      <td>...</td>\n",
       "      <td>...</td>\n",
       "      <td>...</td>\n",
       "      <td>...</td>\n",
       "      <td>...</td>\n",
       "      <td>...</td>\n",
       "    </tr>\n",
       "    <tr>\n",
       "      <th>19684</th>\n",
       "      <td>Small millets</td>\n",
       "      <td>Kharif</td>\n",
       "      <td>Nagaland</td>\n",
       "      <td>4000.0</td>\n",
       "      <td>2000</td>\n",
       "      <td>Mid</td>\n",
       "    </tr>\n",
       "    <tr>\n",
       "      <th>19685</th>\n",
       "      <td>Wheat</td>\n",
       "      <td>Rabi</td>\n",
       "      <td>Nagaland</td>\n",
       "      <td>1000.0</td>\n",
       "      <td>3000</td>\n",
       "      <td>Mid</td>\n",
       "    </tr>\n",
       "    <tr>\n",
       "      <th>19686</th>\n",
       "      <td>Maize</td>\n",
       "      <td>Kharif</td>\n",
       "      <td>Jammu and Kashmir</td>\n",
       "      <td>310883.0</td>\n",
       "      <td>440900</td>\n",
       "      <td>Mid</td>\n",
       "    </tr>\n",
       "    <tr>\n",
       "      <th>19687</th>\n",
       "      <td>Rice</td>\n",
       "      <td>Kharif</td>\n",
       "      <td>Jammu and Kashmir</td>\n",
       "      <td>275746.0</td>\n",
       "      <td>5488</td>\n",
       "      <td>Mid</td>\n",
       "    </tr>\n",
       "    <tr>\n",
       "      <th>19688</th>\n",
       "      <td>Wheat</td>\n",
       "      <td>Rabi</td>\n",
       "      <td>Jammu and Kashmir</td>\n",
       "      <td>239344.0</td>\n",
       "      <td>392160</td>\n",
       "      <td>Mid</td>\n",
       "    </tr>\n",
       "  </tbody>\n",
       "</table>\n",
       "<p>18419 rows × 6 columns</p>\n",
       "</div>"
      ],
      "text/plain": [
       "                Crop      Season              State      Area  Production  \\\n",
       "0           Arecanut  Whole Year              Assam   73814.0       56708   \n",
       "1          Arhar/Tur      Kharif              Assam    6637.0        4685   \n",
       "2        Castor seed      Kharif              Assam     796.0          22   \n",
       "3            Coconut  Whole Year              Assam   19656.0   126905000   \n",
       "4       Cotton(lint)      Kharif              Assam    1739.0         794   \n",
       "...              ...         ...                ...       ...         ...   \n",
       "19684  Small millets      Kharif           Nagaland    4000.0        2000   \n",
       "19685          Wheat        Rabi           Nagaland    1000.0        3000   \n",
       "19686          Maize      Kharif  Jammu and Kashmir  310883.0      440900   \n",
       "19687           Rice      Kharif  Jammu and Kashmir  275746.0        5488   \n",
       "19688          Wheat        Rabi  Jammu and Kashmir  239344.0      392160   \n",
       "\n",
       "      Annual_Rainfall  \n",
       "0                High  \n",
       "1                High  \n",
       "2                High  \n",
       "3                High  \n",
       "4                High  \n",
       "...               ...  \n",
       "19684             Mid  \n",
       "19685             Mid  \n",
       "19686             Mid  \n",
       "19687             Mid  \n",
       "19688             Mid  \n",
       "\n",
       "[18419 rows x 6 columns]"
      ]
     },
     "execution_count": 706,
     "metadata": {},
     "output_type": "execute_result"
    }
   ],
   "source": [
    "df = df[(df['Area'] < upper_limit) & (df['Area'] > lower_limit)]\n",
    "df"
   ]
  },
  {
   "cell_type": "code",
   "execution_count": 707,
   "id": "fb4a6809",
   "metadata": {},
   "outputs": [
    {
     "data": {
      "text/plain": [
       "<Axes: ylabel='Area'>"
      ]
     },
     "execution_count": 707,
     "metadata": {},
     "output_type": "execute_result"
    },
    {
     "data": {
      "image/png": "[encoded data removed]",
      "text/plain": [
       "<Figure size 640x480 with 1 Axes>"
      ]
     },
     "metadata": {},
     "output_type": "display_data"
    }
   ],
   "source": [
    "sns.boxplot(df['Area'])"
   ]
  },
  {
   "cell_type": "code",
   "execution_count": 708,
   "id": "47f3ae1f",
   "metadata": {},
   "outputs": [],
   "source": [
    "# df['Area'] = np.log1p(df['Area'])\n",
    "\n",
    "# this will automatically handle remaining outliers"
   ]
  },
  {
   "cell_type": "markdown",
   "id": "412a1f75",
   "metadata": {},
   "source": [
    "## Production"
   ]
  },
  {
   "cell_type": "code",
   "execution_count": 709,
   "id": "b5fc7959",
   "metadata": {},
   "outputs": [
    {
     "name": "stdout",
     "output_type": "stream",
     "text": [
      "5.180000000000007 44905486.25999962\n"
     ]
    }
   ],
   "source": [
    "upper_limit = df['Production'].quantile(0.99)\n",
    "lower_limit = df['Production'].quantile(0.01)\n",
    "\n",
    "print(lower_limit, upper_limit)"
   ]
  },
  {
   "cell_type": "code",
   "execution_count": 710,
   "id": "daeb5a42",
   "metadata": {},
   "outputs": [
    {
     "data": {
      "text/plain": [
       "(18419, 6)"
      ]
     },
     "execution_count": 710,
     "metadata": {},
     "output_type": "execute_result"
    }
   ],
   "source": [
    "df.shape"
   ]
  },
  {
   "cell_type": "code",
   "execution_count": 711,
   "id": "02f04ead",
   "metadata": {},
   "outputs": [
    {
     "data": {
      "text/html": [
       "<div>\n",
       "<style scoped>\n",
       "    .dataframe tbody tr th:only-of-type {\n",
       "        vertical-align: middle;\n",
       "    }\n",
       "\n",
       "    .dataframe tbody tr th {\n",
       "        vertical-align: top;\n",
       "    }\n",
       "\n",
       "    .dataframe thead th {\n",
       "        text-align: right;\n",
       "    }\n",
       "</style>\n",
       "<table border=\"1\" class=\"dataframe\">\n",
       "  <thead>\n",
       "    <tr style=\"text-align: right;\">\n",
       "      <th></th>\n",
       "      <th>Crop</th>\n",
       "      <th>Season</th>\n",
       "      <th>State</th>\n",
       "      <th>Area</th>\n",
       "      <th>Production</th>\n",
       "      <th>Annual_Rainfall</th>\n",
       "    </tr>\n",
       "  </thead>\n",
       "  <tbody>\n",
       "    <tr>\n",
       "      <th>0</th>\n",
       "      <td>Arecanut</td>\n",
       "      <td>Whole Year</td>\n",
       "      <td>Assam</td>\n",
       "      <td>73814.0</td>\n",
       "      <td>56708</td>\n",
       "      <td>High</td>\n",
       "    </tr>\n",
       "    <tr>\n",
       "      <th>1</th>\n",
       "      <td>Arhar/Tur</td>\n",
       "      <td>Kharif</td>\n",
       "      <td>Assam</td>\n",
       "      <td>6637.0</td>\n",
       "      <td>4685</td>\n",
       "      <td>High</td>\n",
       "    </tr>\n",
       "    <tr>\n",
       "      <th>2</th>\n",
       "      <td>Castor seed</td>\n",
       "      <td>Kharif</td>\n",
       "      <td>Assam</td>\n",
       "      <td>796.0</td>\n",
       "      <td>22</td>\n",
       "      <td>High</td>\n",
       "    </tr>\n",
       "    <tr>\n",
       "      <th>4</th>\n",
       "      <td>Cotton(lint)</td>\n",
       "      <td>Kharif</td>\n",
       "      <td>Assam</td>\n",
       "      <td>1739.0</td>\n",
       "      <td>794</td>\n",
       "      <td>High</td>\n",
       "    </tr>\n",
       "    <tr>\n",
       "      <th>5</th>\n",
       "      <td>Dry chillies</td>\n",
       "      <td>Whole Year</td>\n",
       "      <td>Assam</td>\n",
       "      <td>13587.0</td>\n",
       "      <td>9073</td>\n",
       "      <td>High</td>\n",
       "    </tr>\n",
       "    <tr>\n",
       "      <th>...</th>\n",
       "      <td>...</td>\n",
       "      <td>...</td>\n",
       "      <td>...</td>\n",
       "      <td>...</td>\n",
       "      <td>...</td>\n",
       "      <td>...</td>\n",
       "    </tr>\n",
       "    <tr>\n",
       "      <th>19684</th>\n",
       "      <td>Small millets</td>\n",
       "      <td>Kharif</td>\n",
       "      <td>Nagaland</td>\n",
       "      <td>4000.0</td>\n",
       "      <td>2000</td>\n",
       "      <td>Mid</td>\n",
       "    </tr>\n",
       "    <tr>\n",
       "      <th>19685</th>\n",
       "      <td>Wheat</td>\n",
       "      <td>Rabi</td>\n",
       "      <td>Nagaland</td>\n",
       "      <td>1000.0</td>\n",
       "      <td>3000</td>\n",
       "      <td>Mid</td>\n",
       "    </tr>\n",
       "    <tr>\n",
       "      <th>19686</th>\n",
       "      <td>Maize</td>\n",
       "      <td>Kharif</td>\n",
       "      <td>Jammu and Kashmir</td>\n",
       "      <td>310883.0</td>\n",
       "      <td>440900</td>\n",
       "      <td>Mid</td>\n",
       "    </tr>\n",
       "    <tr>\n",
       "      <th>19687</th>\n",
       "      <td>Rice</td>\n",
       "      <td>Kharif</td>\n",
       "      <td>Jammu and Kashmir</td>\n",
       "      <td>275746.0</td>\n",
       "      <td>5488</td>\n",
       "      <td>Mid</td>\n",
       "    </tr>\n",
       "    <tr>\n",
       "      <th>19688</th>\n",
       "      <td>Wheat</td>\n",
       "      <td>Rabi</td>\n",
       "      <td>Jammu and Kashmir</td>\n",
       "      <td>239344.0</td>\n",
       "      <td>392160</td>\n",
       "      <td>Mid</td>\n",
       "    </tr>\n",
       "  </tbody>\n",
       "</table>\n",
       "<p>18049 rows × 6 columns</p>\n",
       "</div>"
      ],
      "text/plain": [
       "                Crop      Season              State      Area  Production  \\\n",
       "0           Arecanut  Whole Year              Assam   73814.0       56708   \n",
       "1          Arhar/Tur      Kharif              Assam    6637.0        4685   \n",
       "2        Castor seed      Kharif              Assam     796.0          22   \n",
       "4       Cotton(lint)      Kharif              Assam    1739.0         794   \n",
       "5       Dry chillies  Whole Year              Assam   13587.0        9073   \n",
       "...              ...         ...                ...       ...         ...   \n",
       "19684  Small millets      Kharif           Nagaland    4000.0        2000   \n",
       "19685          Wheat        Rabi           Nagaland    1000.0        3000   \n",
       "19686          Maize      Kharif  Jammu and Kashmir  310883.0      440900   \n",
       "19687           Rice      Kharif  Jammu and Kashmir  275746.0        5488   \n",
       "19688          Wheat        Rabi  Jammu and Kashmir  239344.0      392160   \n",
       "\n",
       "      Annual_Rainfall  \n",
       "0                High  \n",
       "1                High  \n",
       "2                High  \n",
       "4                High  \n",
       "5                High  \n",
       "...               ...  \n",
       "19684             Mid  \n",
       "19685             Mid  \n",
       "19686             Mid  \n",
       "19687             Mid  \n",
       "19688             Mid  \n",
       "\n",
       "[18049 rows x 6 columns]"
      ]
     },
     "execution_count": 711,
     "metadata": {},
     "output_type": "execute_result"
    }
   ],
   "source": [
    "df = df[(df['Production'] < upper_limit) & (df['Production'] > lower_limit)]\n",
    "df"
   ]
  },
  {
   "cell_type": "code",
   "execution_count": 712,
   "id": "80996a27",
   "metadata": {},
   "outputs": [
    {
     "data": {
      "text/plain": [
       "<Axes: ylabel='Production'>"
      ]
     },
     "execution_count": 712,
     "metadata": {},
     "output_type": "execute_result"
    },
    {
     "data": {
      "image/png": "[encoded data removed]",
      "text/plain": [
       "<Figure size 640x480 with 1 Axes>"
      ]
     },
     "metadata": {},
     "output_type": "display_data"
    }
   ],
   "source": [
    "sns.boxplot(df['Production'])"
   ]
  },
  {
   "cell_type": "code",
   "execution_count": 713,
   "id": "6395a7e6",
   "metadata": {},
   "outputs": [],
   "source": [
    "# df['Production'] = np.log1p(df['Production'])\n",
    "\n",
    "# this will automatically handle remaining outliers"
   ]
  },
  {
   "cell_type": "code",
   "execution_count": 714,
   "id": "09b8b3b1",
   "metadata": {},
   "outputs": [
    {
     "data": {
      "text/plain": [
       "(18049, 6)"
      ]
     },
     "execution_count": 714,
     "metadata": {},
     "output_type": "execute_result"
    }
   ],
   "source": [
    "df.shape"
   ]
  },
  {
   "cell_type": "code",
   "execution_count": 715,
   "id": "262602d5",
   "metadata": {},
   "outputs": [
    {
     "data": {
      "text/html": [
       "<div>\n",
       "<style scoped>\n",
       "    .dataframe tbody tr th:only-of-type {\n",
       "        vertical-align: middle;\n",
       "    }\n",
       "\n",
       "    .dataframe tbody tr th {\n",
       "        vertical-align: top;\n",
       "    }\n",
       "\n",
       "    .dataframe thead th {\n",
       "        text-align: right;\n",
       "    }\n",
       "</style>\n",
       "<table border=\"1\" class=\"dataframe\">\n",
       "  <thead>\n",
       "    <tr style=\"text-align: right;\">\n",
       "      <th></th>\n",
       "      <th>Crop</th>\n",
       "      <th>Season</th>\n",
       "      <th>State</th>\n",
       "      <th>Area</th>\n",
       "      <th>Production</th>\n",
       "      <th>Annual_Rainfall</th>\n",
       "    </tr>\n",
       "  </thead>\n",
       "  <tbody>\n",
       "    <tr>\n",
       "      <th>0</th>\n",
       "      <td>Arecanut</td>\n",
       "      <td>Whole Year</td>\n",
       "      <td>Assam</td>\n",
       "      <td>73814.0</td>\n",
       "      <td>56708</td>\n",
       "      <td>High</td>\n",
       "    </tr>\n",
       "    <tr>\n",
       "      <th>1</th>\n",
       "      <td>Arhar/Tur</td>\n",
       "      <td>Kharif</td>\n",
       "      <td>Assam</td>\n",
       "      <td>6637.0</td>\n",
       "      <td>4685</td>\n",
       "      <td>High</td>\n",
       "    </tr>\n",
       "    <tr>\n",
       "      <th>2</th>\n",
       "      <td>Castor seed</td>\n",
       "      <td>Kharif</td>\n",
       "      <td>Assam</td>\n",
       "      <td>796.0</td>\n",
       "      <td>22</td>\n",
       "      <td>High</td>\n",
       "    </tr>\n",
       "    <tr>\n",
       "      <th>4</th>\n",
       "      <td>Cotton(lint)</td>\n",
       "      <td>Kharif</td>\n",
       "      <td>Assam</td>\n",
       "      <td>1739.0</td>\n",
       "      <td>794</td>\n",
       "      <td>High</td>\n",
       "    </tr>\n",
       "    <tr>\n",
       "      <th>5</th>\n",
       "      <td>Dry chillies</td>\n",
       "      <td>Whole Year</td>\n",
       "      <td>Assam</td>\n",
       "      <td>13587.0</td>\n",
       "      <td>9073</td>\n",
       "      <td>High</td>\n",
       "    </tr>\n",
       "    <tr>\n",
       "      <th>...</th>\n",
       "      <td>...</td>\n",
       "      <td>...</td>\n",
       "      <td>...</td>\n",
       "      <td>...</td>\n",
       "      <td>...</td>\n",
       "      <td>...</td>\n",
       "    </tr>\n",
       "    <tr>\n",
       "      <th>19684</th>\n",
       "      <td>Small millets</td>\n",
       "      <td>Kharif</td>\n",
       "      <td>Nagaland</td>\n",
       "      <td>4000.0</td>\n",
       "      <td>2000</td>\n",
       "      <td>Mid</td>\n",
       "    </tr>\n",
       "    <tr>\n",
       "      <th>19685</th>\n",
       "      <td>Wheat</td>\n",
       "      <td>Rabi</td>\n",
       "      <td>Nagaland</td>\n",
       "      <td>1000.0</td>\n",
       "      <td>3000</td>\n",
       "      <td>Mid</td>\n",
       "    </tr>\n",
       "    <tr>\n",
       "      <th>19686</th>\n",
       "      <td>Maize</td>\n",
       "      <td>Kharif</td>\n",
       "      <td>Jammu and Kashmir</td>\n",
       "      <td>310883.0</td>\n",
       "      <td>440900</td>\n",
       "      <td>Mid</td>\n",
       "    </tr>\n",
       "    <tr>\n",
       "      <th>19687</th>\n",
       "      <td>Rice</td>\n",
       "      <td>Kharif</td>\n",
       "      <td>Jammu and Kashmir</td>\n",
       "      <td>275746.0</td>\n",
       "      <td>5488</td>\n",
       "      <td>Mid</td>\n",
       "    </tr>\n",
       "    <tr>\n",
       "      <th>19688</th>\n",
       "      <td>Wheat</td>\n",
       "      <td>Rabi</td>\n",
       "      <td>Jammu and Kashmir</td>\n",
       "      <td>239344.0</td>\n",
       "      <td>392160</td>\n",
       "      <td>Mid</td>\n",
       "    </tr>\n",
       "  </tbody>\n",
       "</table>\n",
       "<p>18049 rows × 6 columns</p>\n",
       "</div>"
      ],
      "text/plain": [
       "                Crop      Season              State      Area  Production  \\\n",
       "0           Arecanut  Whole Year              Assam   73814.0       56708   \n",
       "1          Arhar/Tur      Kharif              Assam    6637.0        4685   \n",
       "2        Castor seed      Kharif              Assam     796.0          22   \n",
       "4       Cotton(lint)      Kharif              Assam    1739.0         794   \n",
       "5       Dry chillies  Whole Year              Assam   13587.0        9073   \n",
       "...              ...         ...                ...       ...         ...   \n",
       "19684  Small millets      Kharif           Nagaland    4000.0        2000   \n",
       "19685          Wheat        Rabi           Nagaland    1000.0        3000   \n",
       "19686          Maize      Kharif  Jammu and Kashmir  310883.0      440900   \n",
       "19687           Rice      Kharif  Jammu and Kashmir  275746.0        5488   \n",
       "19688          Wheat        Rabi  Jammu and Kashmir  239344.0      392160   \n",
       "\n",
       "      Annual_Rainfall  \n",
       "0                High  \n",
       "1                High  \n",
       "2                High  \n",
       "4                High  \n",
       "5                High  \n",
       "...               ...  \n",
       "19684             Mid  \n",
       "19685             Mid  \n",
       "19686             Mid  \n",
       "19687             Mid  \n",
       "19688             Mid  \n",
       "\n",
       "[18049 rows x 6 columns]"
      ]
     },
     "execution_count": 715,
     "metadata": {},
     "output_type": "execute_result"
    }
   ],
   "source": [
    "df"
   ]
  },
  {
   "cell_type": "code",
   "execution_count": 716,
   "id": "224fd0a9",
   "metadata": {},
   "outputs": [
    {
     "data": {
      "text/html": [
       "<div>\n",
       "<style scoped>\n",
       "    .dataframe tbody tr th:only-of-type {\n",
       "        vertical-align: middle;\n",
       "    }\n",
       "\n",
       "    .dataframe tbody tr th {\n",
       "        vertical-align: top;\n",
       "    }\n",
       "\n",
       "    .dataframe thead th {\n",
       "        text-align: right;\n",
       "    }\n",
       "</style>\n",
       "<table border=\"1\" class=\"dataframe\">\n",
       "  <thead>\n",
       "    <tr style=\"text-align: right;\">\n",
       "      <th></th>\n",
       "      <th>Area</th>\n",
       "      <th>Production</th>\n",
       "    </tr>\n",
       "  </thead>\n",
       "  <tbody>\n",
       "    <tr>\n",
       "      <th>count</th>\n",
       "      <td>1.804900e+04</td>\n",
       "      <td>1.804900e+04</td>\n",
       "    </tr>\n",
       "    <tr>\n",
       "      <th>mean</th>\n",
       "      <td>1.169465e+05</td>\n",
       "      <td>4.510763e+05</td>\n",
       "    </tr>\n",
       "    <tr>\n",
       "      <th>std</th>\n",
       "      <td>3.072840e+05</td>\n",
       "      <td>2.219072e+06</td>\n",
       "    </tr>\n",
       "    <tr>\n",
       "      <th>min</th>\n",
       "      <td>5.000000e+00</td>\n",
       "      <td>6.000000e+00</td>\n",
       "    </tr>\n",
       "    <tr>\n",
       "      <th>25%</th>\n",
       "      <td>1.615000e+03</td>\n",
       "      <td>1.672000e+03</td>\n",
       "    </tr>\n",
       "    <tr>\n",
       "      <th>50%</th>\n",
       "      <td>9.816000e+03</td>\n",
       "      <td>1.512900e+04</td>\n",
       "    </tr>\n",
       "    <tr>\n",
       "      <th>75%</th>\n",
       "      <td>7.300000e+04</td>\n",
       "      <td>1.171000e+05</td>\n",
       "    </tr>\n",
       "    <tr>\n",
       "      <th>max</th>\n",
       "      <td>2.660500e+06</td>\n",
       "      <td>4.383806e+07</td>\n",
       "    </tr>\n",
       "  </tbody>\n",
       "</table>\n",
       "</div>"
      ],
      "text/plain": [
       "               Area    Production\n",
       "count  1.804900e+04  1.804900e+04\n",
       "mean   1.169465e+05  4.510763e+05\n",
       "std    3.072840e+05  2.219072e+06\n",
       "min    5.000000e+00  6.000000e+00\n",
       "25%    1.615000e+03  1.672000e+03\n",
       "50%    9.816000e+03  1.512900e+04\n",
       "75%    7.300000e+04  1.171000e+05\n",
       "max    2.660500e+06  4.383806e+07"
      ]
     },
     "execution_count": 716,
     "metadata": {},
     "output_type": "execute_result"
    }
   ],
   "source": [
    "df.describe()"
   ]
  },
  {
   "cell_type": "code",
   "execution_count": null,
   "id": "fded392a",
   "metadata": {},
   "outputs": [],
   "source": [
    "# df.to_csv(\"data/final_data.csv\", index=False)"
   ]
  }
 ],
 "metadata": {
  "kernelspec": {
   "display_name": "Python (crop_yield_env)",
   "language": "python",
   "name": "crop_yield_env"
  },
  "language_info": {
   "codemirror_mode": {
    "name": "ipython",
    "version": 3
   },
   "file_extension": ".py",
   "mimetype": "text/x-python",
   "name": "python",
   "nbconvert_exporter": "python",
   "pygments_lexer": "ipython3",
   "version": "3.13.2"
  }
 },
 "nbformat": 4,
 "nbformat_minor": 5
}
