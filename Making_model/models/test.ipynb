{
 "cells": [
  {
   "cell_type": "code",
   "execution_count": 1,
   "id": "4f7bced9",
   "metadata": {},
   "outputs": [
    {
     "name": "stdout",
     "output_type": "stream",
     "text": [
      "Model loaded successfully!\n"
     ]
    }
   ],
   "source": [
    "import joblib\n",
    "\n",
    "loaded_model = joblib.load('yield_model.joblib')\n",
    "print(\"Model loaded successfully!\")\n"
   ]
  },
  {
   "cell_type": "markdown",
   "id": "ff798823",
   "metadata": {},
   "source": [
    "### Input columns\n",
    "* Crop: The name of the crop cultivated.\n",
    "* Season: The specific cropping season (e.g., Kharif, Rabi, Whole Year).\n",
    "* State: The Indian state where the crop was cultivated.\n",
    "* Area: The total land area (in hectares) under cultivation for the specific crop.\n",
    "* Annual_Rainfall: The annual rainfall received in the crop-growing region (low, mid, high).\n",
    "\n",
    "### Output columns\n",
    "* Production: The quantity of crop production (in metric tons).\n",
    "\n",
    "### Main Output\n",
    "* Yield: The calculated crop yield (production per unit area). -> metric tons per hectare"
   ]
  },
  {
   "cell_type": "code",
   "execution_count": 3,
   "id": "a5c64c80",
   "metadata": {},
   "outputs": [
    {
     "name": "stdout",
     "output_type": "stream",
     "text": [
      "Predicted Production: 13629.39382187553\n",
      "Predicted Yield per unit area: 2.725878764375106\n"
     ]
    }
   ],
   "source": [
    "import pandas as pd\n",
    "\n",
    "new_data = pd.DataFrame([{\n",
    "    'Crop': 'Rice',\n",
    "    'Season': 'Kharif',\n",
    "    'State': 'West Bengal',\n",
    "    'Area': 5000,   \n",
    "    'Annual_Rainfall': 'Mid' \n",
    "}])\n",
    "\n",
    "predicted_production = loaded_model.predict(new_data)\n",
    "print(\"Predicted Production:\", predicted_production[0])\n",
    "\n",
    "predicted_yield = predicted_production[0] / new_data['Area'][0]\n",
    "print(\"Predicted Yield per unit area:\", predicted_yield)\n"
   ]
  }
 ],
 "metadata": {
  "kernelspec": {
   "display_name": "Yield Prediction",
   "language": "python",
   "name": "yield_prediction"
  },
  "language_info": {
   "codemirror_mode": {
    "name": "ipython",
    "version": 3
   },
   "file_extension": ".py",
   "mimetype": "text/x-python",
   "name": "python",
   "nbconvert_exporter": "python",
   "pygments_lexer": "ipython3",
   "version": "3.13.2"
  }
 },
 "nbformat": 4,
 "nbformat_minor": 5
}
